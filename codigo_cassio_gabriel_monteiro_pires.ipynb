{
 "cells": [
  {
   "cell_type": "markdown",
   "id": "a8143c30",
   "metadata": {},
   "source": [
    "# Análise de Pedidos de Acesso a Informações - CGU"
   ]
  },
  {
   "cell_type": "markdown",
   "id": "a795421c",
   "metadata": {},
   "source": [
    "## 0. Importação, leitura e exibição dos dados"
   ]
  },
  {
   "cell_type": "code",
   "execution_count": 1,
   "id": "9c19febc",
   "metadata": {
    "scrolled": false
   },
   "outputs": [
    {
     "data": {
      "text/html": [
       "<div>\n",
       "<style scoped>\n",
       "    .dataframe tbody tr th:only-of-type {\n",
       "        vertical-align: middle;\n",
       "    }\n",
       "\n",
       "    .dataframe tbody tr th {\n",
       "        vertical-align: top;\n",
       "    }\n",
       "\n",
       "    .dataframe thead th {\n",
       "        text-align: right;\n",
       "    }\n",
       "</style>\n",
       "<table border=\"1\" class=\"dataframe\">\n",
       "  <thead>\n",
       "    <tr style=\"text-align: right;\">\n",
       "      <th></th>\n",
       "      <th>Nome do Cidadão</th>\n",
       "      <th>Dias para Resposta</th>\n",
       "      <th>Pedido</th>\n",
       "      <th>Status do Pedido</th>\n",
       "      <th>Identidade de gênero</th>\n",
       "      <th>Cor</th>\n",
       "      <th>Estado</th>\n",
       "    </tr>\n",
       "  </thead>\n",
       "  <tbody>\n",
       "    <tr>\n",
       "      <th>0</th>\n",
       "      <td>Cidadão 1</td>\n",
       "      <td>126</td>\n",
       "      <td>O meu auxílio foi bloqueado injustamente, esto...</td>\n",
       "      <td>Acesso Concedido</td>\n",
       "      <td>Homem Cisgênero</td>\n",
       "      <td>Branca</td>\n",
       "      <td>São Paulo (SP)</td>\n",
       "    </tr>\n",
       "    <tr>\n",
       "      <th>1</th>\n",
       "      <td>Cidadão 2</td>\n",
       "      <td>96</td>\n",
       "      <td>Fui aprovada recentemente para receber a exten...</td>\n",
       "      <td>Acesso Parcialmente Concedido</td>\n",
       "      <td>Mulher Cisgênero</td>\n",
       "      <td>Branca</td>\n",
       "      <td>Pernambuco (PE)</td>\n",
       "    </tr>\n",
       "    <tr>\n",
       "      <th>2</th>\n",
       "      <td>Cidadão 3</td>\n",
       "      <td>171</td>\n",
       "      <td>Sou aluno do curso Tecnólogo em Gestão em Fina...</td>\n",
       "      <td>Acesso Concedido</td>\n",
       "      <td>Homem Cisgênero</td>\n",
       "      <td>Branca</td>\n",
       "      <td>Paraíba (PB)</td>\n",
       "    </tr>\n",
       "    <tr>\n",
       "      <th>3</th>\n",
       "      <td>Cidadão 4</td>\n",
       "      <td>387</td>\n",
       "      <td>Aos responsáveis pela administração pública do...</td>\n",
       "      <td>Acesso Negado</td>\n",
       "      <td>Mulher Cisgênero</td>\n",
       "      <td>Parda</td>\n",
       "      <td>Minas Gerais (MG)</td>\n",
       "    </tr>\n",
       "    <tr>\n",
       "      <th>4</th>\n",
       "      <td>Cidadão 5</td>\n",
       "      <td>59</td>\n",
       "      <td>Prezados   Boa noite   Qual é a legislação que...</td>\n",
       "      <td>Acesso Concedido</td>\n",
       "      <td>Homem Cisgênero</td>\n",
       "      <td>Parda</td>\n",
       "      <td>Pernambuco (PE)</td>\n",
       "    </tr>\n",
       "    <tr>\n",
       "      <th>...</th>\n",
       "      <td>...</td>\n",
       "      <td>...</td>\n",
       "      <td>...</td>\n",
       "      <td>...</td>\n",
       "      <td>...</td>\n",
       "      <td>...</td>\n",
       "      <td>...</td>\n",
       "    </tr>\n",
       "    <tr>\n",
       "      <th>261</th>\n",
       "      <td>Cidadão 43</td>\n",
       "      <td>172</td>\n",
       "      <td>Sou pesquisadoras no Nucelo de economia region...</td>\n",
       "      <td>Acesso Parcialmente Concedido</td>\n",
       "      <td>Mulher Cisgênero</td>\n",
       "      <td>Branca</td>\n",
       "      <td>Mato Grosso do Sul (MS)</td>\n",
       "    </tr>\n",
       "    <tr>\n",
       "      <th>262</th>\n",
       "      <td>Cidadão 44</td>\n",
       "      <td>131</td>\n",
       "      <td>Sou graduante na UFERSA no estado do Rio Grand...</td>\n",
       "      <td>Não se trata de solicitação de informação</td>\n",
       "      <td>Homem Cisgênero</td>\n",
       "      <td>Parda</td>\n",
       "      <td>Minas Gerais (MG)</td>\n",
       "    </tr>\n",
       "    <tr>\n",
       "      <th>263</th>\n",
       "      <td>Cidadão 45</td>\n",
       "      <td>39</td>\n",
       "      <td>Quantos Municípios utilizam o S2ID? Quantos Es...</td>\n",
       "      <td>Não se trata de solicitação de informação</td>\n",
       "      <td>Mulher Cisgênero</td>\n",
       "      <td>Branca</td>\n",
       "      <td>São Paulo (SP)</td>\n",
       "    </tr>\n",
       "    <tr>\n",
       "      <th>264</th>\n",
       "      <td>Cidadão 46</td>\n",
       "      <td>280</td>\n",
       "      <td>Bom dia prezados senhores: Verifiquei que o in...</td>\n",
       "      <td>Acesso Concedido</td>\n",
       "      <td>Mulher Cisgênero</td>\n",
       "      <td>Branca</td>\n",
       "      <td>São Paulo (SP)</td>\n",
       "    </tr>\n",
       "    <tr>\n",
       "      <th>265</th>\n",
       "      <td>Cidadão 1</td>\n",
       "      <td>86</td>\n",
       "      <td>Boa trde meu filhos estavam na escola estadual...</td>\n",
       "      <td>Acesso Concedido</td>\n",
       "      <td>Homem Cisgênero</td>\n",
       "      <td>Branca</td>\n",
       "      <td>São Paulo (SP)</td>\n",
       "    </tr>\n",
       "  </tbody>\n",
       "</table>\n",
       "<p>266 rows × 7 columns</p>\n",
       "</div>"
      ],
      "text/plain": [
       "    Nome do Cidadão  Dias para Resposta  \\\n",
       "0         Cidadão 1                 126   \n",
       "1         Cidadão 2                  96   \n",
       "2         Cidadão 3                 171   \n",
       "3         Cidadão 4                 387   \n",
       "4         Cidadão 5                  59   \n",
       "..              ...                 ...   \n",
       "261      Cidadão 43                 172   \n",
       "262      Cidadão 44                 131   \n",
       "263      Cidadão 45                  39   \n",
       "264      Cidadão 46                 280   \n",
       "265       Cidadão 1                  86   \n",
       "\n",
       "                                                Pedido  \\\n",
       "0    O meu auxílio foi bloqueado injustamente, esto...   \n",
       "1    Fui aprovada recentemente para receber a exten...   \n",
       "2    Sou aluno do curso Tecnólogo em Gestão em Fina...   \n",
       "3    Aos responsáveis pela administração pública do...   \n",
       "4    Prezados   Boa noite   Qual é a legislação que...   \n",
       "..                                                 ...   \n",
       "261  Sou pesquisadoras no Nucelo de economia region...   \n",
       "262  Sou graduante na UFERSA no estado do Rio Grand...   \n",
       "263  Quantos Municípios utilizam o S2ID? Quantos Es...   \n",
       "264  Bom dia prezados senhores: Verifiquei que o in...   \n",
       "265  Boa trde meu filhos estavam na escola estadual...   \n",
       "\n",
       "                              Status do Pedido Identidade de gênero     Cor  \\\n",
       "0                             Acesso Concedido      Homem Cisgênero  Branca   \n",
       "1                Acesso Parcialmente Concedido     Mulher Cisgênero  Branca   \n",
       "2                             Acesso Concedido      Homem Cisgênero  Branca   \n",
       "3                                Acesso Negado     Mulher Cisgênero   Parda   \n",
       "4                             Acesso Concedido      Homem Cisgênero   Parda   \n",
       "..                                         ...                  ...     ...   \n",
       "261              Acesso Parcialmente Concedido     Mulher Cisgênero  Branca   \n",
       "262  Não se trata de solicitação de informação      Homem Cisgênero   Parda   \n",
       "263  Não se trata de solicitação de informação     Mulher Cisgênero  Branca   \n",
       "264                           Acesso Concedido     Mulher Cisgênero  Branca   \n",
       "265                           Acesso Concedido      Homem Cisgênero  Branca   \n",
       "\n",
       "                      Estado  \n",
       "0             São Paulo (SP)  \n",
       "1            Pernambuco (PE)  \n",
       "2               Paraíba (PB)  \n",
       "3          Minas Gerais (MG)  \n",
       "4            Pernambuco (PE)  \n",
       "..                       ...  \n",
       "261  Mato Grosso do Sul (MS)  \n",
       "262        Minas Gerais (MG)  \n",
       "263           São Paulo (SP)  \n",
       "264           São Paulo (SP)  \n",
       "265           São Paulo (SP)  \n",
       "\n",
       "[266 rows x 7 columns]"
      ]
     },
     "metadata": {},
     "output_type": "display_data"
    }
   ],
   "source": [
    "import pandas as pd\n",
    "\n",
    "base_dados = pd.read_csv(\"dados.csv\", delimiter=\";\", encoding=\"ISO-8859-1\")\n",
    "\n",
    "display(base_dados)"
   ]
  },
  {
   "cell_type": "markdown",
   "id": "7829f117",
   "metadata": {},
   "source": [
    "## 1. Pedidos de Acesso à Informação"
   ]
  },
  {
   "cell_type": "markdown",
   "id": "2bae9ce1",
   "metadata": {},
   "source": [
    "### 1.1  Número total de pedidos "
   ]
  },
  {
   "cell_type": "code",
   "execution_count": 2,
   "id": "9dd1f2ad",
   "metadata": {},
   "outputs": [
    {
     "name": "stdout",
     "output_type": "stream",
     "text": [
      "Número total de pedidos: 266 pedidos\n"
     ]
    }
   ],
   "source": [
    "total_pedidos = base_dados.shape[0]\n",
    "\n",
    "print(f\"Número total de pedidos: {total_pedidos} pedidos\")"
   ]
  },
  {
   "cell_type": "markdown",
   "id": "cd21a351",
   "metadata": {},
   "source": [
    "### 1.2 Definição da coluna do tamanho do texto de cada pedido"
   ]
  },
  {
   "cell_type": "code",
   "execution_count": 3,
   "id": "495c107c",
   "metadata": {},
   "outputs": [],
   "source": [
    "base_dados['Tamanho do Pedido'] = base_dados['Pedido'].str.len()"
   ]
  },
  {
   "cell_type": "markdown",
   "id": "a232288c",
   "metadata": {},
   "source": [
    "### 1.3 Pedido mais extenso e seu tamanho"
   ]
  },
  {
   "cell_type": "code",
   "execution_count": 4,
   "id": "51b728d9",
   "metadata": {
    "scrolled": true
   },
   "outputs": [
    {
     "name": "stdout",
     "output_type": "stream",
     "text": [
      "Pedido mais extenso:\n",
      "\n",
      "Gostaria de solicitar, com base na Lei de Acesso à Informação, dados relacionados aos petroleiros que atuam no Norte do Rio de Janeiro, de acordo com os seguintes critérios.  Quantos profissionais de exploração de óleo e gás (offshore e onshore) que atuam no Norte Fluminense tiveram casos confirmados de Coronavírus? Qual o quantitativo de cada cidade onde são residentes?  Quantos profissionais de exploração de óleo e gás (offshore e onshore) que atuam no Norte Fluminense têm casos de Coronavírus em investigação? Qual o quantitativo de cada cidade onde são residentes?  Quantos profissionais do setor offshore que atuam na Bacia de Campos tiveram casos confirmados de Coronavírus? Qual o quantitativo de cada cidade onde são residentes?  Quantos profissionais do setor offshore que atuam no Norte Fluminense têm casos de Coronavírus em investigação? Qual o quantitativo de cada cidade onde são residentes?  Quais plataformas da Bacia de Campos foram ou serão desativadas e/ou hibernadas por conta da crise do Coronavírus? Qual o prazo para todas elas serem desativadas/hibernadas?   Do total de plataformas desativadas/hibernadas, qual foi a produção gerada em 2019? Desse total de produção, quanto de royalties e participações especiais foram gerados a partir das respectivas plataformas em 2019? Do total de royalties gerados a partir das respectivas plataformas, quanto foi transferido para Campos e Macaé em 2019?  Quantos profissionais atuam em cada plataforma que foram ou serão desativadas e/ou hibernadas por conta da crise do Coronavírus?  Quantos profissionais que atuam nas plataformas desativadas/hibernadas serão realocadas?  Quantos profissionais que atuam no setor offshore e onshore da Bacia de Campos foram afastados por serem de grupos de risco? Qual o quantitativo de cada cidade onde são residentes?   Solicito ainda que, conforme o  Art. 8o, § 3o da LAI 12.527/2011, as informações ora requisitadas sejam enviadas em formato Excel ou similar formato eletrônico de planilha. \n",
      "\n",
      "Tamanho do pedido mais extenso: 2000 caracteres\n"
     ]
    }
   ],
   "source": [
    "pedido_mais_extenso = \"\"\n",
    "maior_tamanho = 0\n",
    "\n",
    "for pedido in base_dados['Pedido']:\n",
    "    tamanho_pedido = len(pedido)\n",
    "    \n",
    "    if tamanho_pedido > maior_tamanho:\n",
    "        maior_tamanho = tamanho_pedido\n",
    "        pedido_mais_extenso = pedido\n",
    "\n",
    "print(\"Pedido mais extenso:\\n\")\n",
    "print(pedido_mais_extenso)\n",
    "print(f\"\\nTamanho do pedido mais extenso: {maior_tamanho} caracteres\")"
   ]
  },
  {
   "cell_type": "markdown",
   "id": "7cdbbc19",
   "metadata": {},
   "source": [
    "## 2. Tempo de Resposta"
   ]
  },
  {
   "cell_type": "markdown",
   "id": "2c001f34",
   "metadata": {},
   "source": [
    "### 2.1 Maior tempo de resposta"
   ]
  },
  {
   "cell_type": "code",
   "execution_count": 5,
   "id": "6bb23e3e",
   "metadata": {},
   "outputs": [
    {
     "name": "stdout",
     "output_type": "stream",
     "text": [
      "Maior tempo de resposta: 539 dias\n"
     ]
    }
   ],
   "source": [
    "maior_tempo_resposta = base_dados['Dias para Resposta'][0] # Inicializa-se com o primeiro valor\n",
    "\n",
    "for tempo in base_dados['Dias para Resposta']:\n",
    "    if tempo > maior_tempo_resposta:\n",
    "        maior_tempo_resposta = tempo\n",
    "\n",
    "print(f\"Maior tempo de resposta: {maior_tempo_resposta} dias\")"
   ]
  },
  {
   "cell_type": "markdown",
   "id": "50a04ac9",
   "metadata": {},
   "source": [
    "### 2.2 Menor tempo de resposta"
   ]
  },
  {
   "cell_type": "code",
   "execution_count": 6,
   "id": "cad66402",
   "metadata": {},
   "outputs": [
    {
     "name": "stdout",
     "output_type": "stream",
     "text": [
      "Menor tempo de resposta: 22 dias\n"
     ]
    }
   ],
   "source": [
    "menor_tempo_resposta = base_dados['Dias para Resposta'][0]\n",
    "\n",
    "for tempo in base_dados['Dias para Resposta']:\n",
    "    if tempo < menor_tempo_resposta:\n",
    "        menor_tempo_resposta = tempo\n",
    "\n",
    "print(f\"Menor tempo de resposta: {menor_tempo_resposta} dias\")"
   ]
  },
  {
   "cell_type": "markdown",
   "id": "a4160efb",
   "metadata": {},
   "source": [
    "### 2.3 Tempo médio de resposta"
   ]
  },
  {
   "cell_type": "code",
   "execution_count": 7,
   "id": "4fa6851e",
   "metadata": {},
   "outputs": [
    {
     "name": "stdout",
     "output_type": "stream",
     "text": [
      "Tempo médio de resposta: 131.48 dias\n"
     ]
    }
   ],
   "source": [
    "total_tempo_resposta = 0\n",
    "contador = 0\n",
    "\n",
    "for tempo in base_dados['Dias para Resposta']:\n",
    "    total_tempo_resposta += tempo\n",
    "    contador += 1\n",
    "tempo_medio_resposta = total_tempo_resposta / contador\n",
    "\n",
    "print(f\"Tempo médio de resposta: {tempo_medio_resposta:.2f} dias\")"
   ]
  },
  {
   "cell_type": "markdown",
   "id": "9e8bb5ea",
   "metadata": {},
   "source": [
    "### 2.4 Moda do tempo médio de resposta"
   ]
  },
  {
   "cell_type": "code",
   "execution_count": 8,
   "id": "b5fcc6fc",
   "metadata": {},
   "outputs": [
    {
     "name": "stdout",
     "output_type": "stream",
     "text": [
      "Moda do tempo médio de resposta: 74 dias\n"
     ]
    }
   ],
   "source": [
    "contador_tempo_resposta = {}\n",
    "moda_tempo_resposta = None\n",
    "contador_max = 0\n",
    "\n",
    "for tempo in base_dados['Dias para Resposta']:\n",
    "    if isinstance(tempo, int):\n",
    "        contador_tempo_resposta[tempo] = contador_tempo_resposta.get(tempo, 0) + 1\n",
    "        if contador_tempo_resposta[tempo] > contador_max:\n",
    "            contador_max = contador_tempo_resposta[tempo]\n",
    "            moda_tempo_resposta = tempo\n",
    "\n",
    "print(f\"Moda do tempo médio de resposta: {moda_tempo_resposta} dias\")"
   ]
  },
  {
   "cell_type": "markdown",
   "id": "8c777427",
   "metadata": {},
   "source": [
    "### 2.5 Mediana do tempo médio de resposta"
   ]
  },
  {
   "cell_type": "code",
   "execution_count": 9,
   "id": "65431ecb",
   "metadata": {
    "scrolled": true
   },
   "outputs": [
    {
     "name": "stdout",
     "output_type": "stream",
     "text": [
      "Mediana do tempo médio de resposta: 102.50 dias\n"
     ]
    }
   ],
   "source": [
    "# Ordenação crescente dos tempos de resposta\n",
    "tempos_ordenados = sorted(base_dados['Dias para Resposta'])\n",
    "\n",
    "if contador % 2 == 0:\n",
    "    # Se par, a mediana é a média dos dois valores do meio\n",
    "    mediana = (tempos_ordenados[contador // 2 - 1] + tempos_ordenados[contador // 2]) / 2\n",
    "else:\n",
    "    # Se ímpar, a mediana é o valor do meio\n",
    "    mediana = tempos_ordenados[contador // 2]\n",
    "\n",
    "print(f\"Mediana do tempo médio de resposta: {mediana:.2f} dias\")"
   ]
  },
  {
   "cell_type": "markdown",
   "id": "82dc790f",
   "metadata": {},
   "source": [
    "## 3. Identidade de Gênero"
   ]
  },
  {
   "cell_type": "markdown",
   "id": "e4438cd8",
   "metadata": {},
   "source": [
    "### 3.1 Identidades de gênero presentes nos dados"
   ]
  },
  {
   "cell_type": "code",
   "execution_count": 10,
   "id": "f6832885",
   "metadata": {},
   "outputs": [
    {
     "name": "stdout",
     "output_type": "stream",
     "text": [
      "Identidades de gênero presentes nos dados:\n",
      "\n",
      "Homem transgênero\n",
      "Mulher transgênero\n",
      "Homem Cisgênero\n",
      "Não binário\n",
      "Mulher Cisgênero\n"
     ]
    }
   ],
   "source": [
    "identidades_genero = set()\n",
    "\n",
    "for identidade_genero in base_dados['Identidade de gênero']:\n",
    "    # Verifica se a identidade de gênero não é nula ou vazia\n",
    "    if identidade_genero and isinstance(identidade_genero, str):\n",
    "        identidades_genero.add(identidade_genero)\n",
    "\n",
    "print(\"Identidades de gênero presentes nos dados:\\n\")\n",
    "for identidade in identidades_genero:\n",
    "    print(identidade)"
   ]
  },
  {
   "cell_type": "markdown",
   "id": "bbda4329",
   "metadata": {},
   "source": [
    "### 3.2 Porcentagem de cada identidade de gênero em relação ao total de pedidos"
   ]
  },
  {
   "cell_type": "code",
   "execution_count": 11,
   "id": "2de78d92",
   "metadata": {
    "scrolled": true
   },
   "outputs": [
    {
     "name": "stdout",
     "output_type": "stream",
     "text": [
      "Porcentagem de cada identidade de gênero em relação ao total de pedidos:\n",
      "\n",
      "Mulher Cisgênero: 50.38%\n",
      "Homem Cisgênero: 43.98%\n",
      "Homem transgênero: 3.01%\n",
      "Mulher transgênero: 1.50%\n",
      "Não binário: 1.13%\n"
     ]
    }
   ],
   "source": [
    "contagem_identidades_genero = {}\n",
    "total_pedidos = 0\n",
    "\n",
    "for identidade_genero in base_dados['Identidade de gênero']:\n",
    "    if identidade_genero and isinstance(identidade_genero, str):\n",
    "        contagem_identidades_genero[identidade_genero] = contagem_identidades_genero.get(identidade_genero, 0) + 1\n",
    "        total_pedidos += 1\n",
    "\n",
    "# Calcula e armazena as porcentagens de cada identidade de gênero\n",
    "porcentagens = {}\n",
    "for identidade, contador in contagem_identidades_genero.items():\n",
    "    porcentagem = (contador / total_pedidos) * 100\n",
    "    porcentagens[identidade] = porcentagem\n",
    "\n",
    "# Ordena o dicionário de identidades em ordem decrescente\n",
    "porcentagens_ordenadas = sorted(porcentagens.items(), key=lambda x: x[1], reverse=True)\n",
    "\n",
    "print(\"Porcentagem de cada identidade de gênero em relação ao total de pedidos:\\n\")\n",
    "for identidade, porcentagem in porcentagens_ordenadas:\n",
    "    print(f\"{identidade}: {porcentagem:.2f}%\")"
   ]
  },
  {
   "cell_type": "markdown",
   "id": "1fae69e2",
   "metadata": {},
   "source": [
    "## 4. Ranking"
   ]
  },
  {
   "cell_type": "markdown",
   "id": "835ca770",
   "metadata": {},
   "source": [
    "### 4.1 - 5 (cinco) Estados com maior número de pedidos de acesso à informação, juntamente com a quantidade correspondente, em ordem decrescente"
   ]
  },
  {
   "cell_type": "code",
   "execution_count": 12,
   "id": "a82bcbb2",
   "metadata": {},
   "outputs": [
    {
     "name": "stdout",
     "output_type": "stream",
     "text": [
      "5 (cinco) Estados com maior número de pedidos de acesso à informação:\n",
      "\n",
      "São Paulo (SP): 73 pedidos\n",
      "Minas Gerais (MG): 51 pedidos\n",
      "Pernambuco (PE): 41 pedidos\n",
      "Paraíba (PB): 26 pedidos\n",
      "Espírito Santo (ES): 14 pedidos\n"
     ]
    }
   ],
   "source": [
    "estados_pedidos = {}\n",
    "\n",
    "for estado in base_dados['Estado']:\n",
    "    if isinstance(estado, str):\n",
    "        estados_pedidos[estado] = estados_pedidos.get(estado, 0) + 1\n",
    "\n",
    "estados_ranking = sorted(estados_pedidos.items(), key=lambda x: x[1], reverse=True)\n",
    "\n",
    "print(\"5 (cinco) Estados com maior número de pedidos de acesso à informação:\\n\")\n",
    "for estado, contador in estados_ranking[:5]:\n",
    "    print(f\"{estado}: {contador} pedidos\")"
   ]
  },
  {
   "cell_type": "markdown",
   "id": "b15bd352",
   "metadata": {},
   "source": [
    "### 4.2 - 3 (três) cidadãos que possuem o maior número de pedidos de acesso à informação"
   ]
  },
  {
   "cell_type": "code",
   "execution_count": 13,
   "id": "df8fed32",
   "metadata": {
    "scrolled": true
   },
   "outputs": [
    {
     "name": "stdout",
     "output_type": "stream",
     "text": [
      "3 (três) cidadãos com o maior número de pedidos de acesso à informação:\n",
      "\n",
      "Cidadão 18: 13 pedidos\n",
      "Cidadão 19: 11 pedidos\n",
      "Cidadão 1: 10 pedidos\n"
     ]
    }
   ],
   "source": [
    "cidadaos_pedidos = {}\n",
    "\n",
    "for cidadao in base_dados['Nome do Cidadão']:\n",
    "    if isinstance(cidadao, str):\n",
    "        cidadaos_pedidos[cidadao] = cidadaos_pedidos.get(cidadao, 0) + 1\n",
    "\n",
    "cidadaos_ranking = sorted(cidadaos_pedidos.items(), key=lambda x: x[1], reverse=True)\n",
    "\n",
    "print(\"3 (três) cidadãos com o maior número de pedidos de acesso à informação:\\n\")\n",
    "for cidadao, contador in cidadaos_ranking[:3]:\n",
    "    print(f\"{cidadao}: {contador} pedidos\")"
   ]
  },
  {
   "cell_type": "markdown",
   "id": "34b2450c",
   "metadata": {},
   "source": [
    "## 5. Correlação"
   ]
  },
  {
   "cell_type": "markdown",
   "id": "2e9f2869",
   "metadata": {},
   "source": [
    "### 5.1 Há alguma correlação entre o tempo de resposta e alguma outra coluna? \n",
    "\n",
    "**Sim**, com a coluna **\"Tamanho do Pedido\"**."
   ]
  },
  {
   "cell_type": "code",
   "execution_count": 14,
   "id": "62d88545",
   "metadata": {},
   "outputs": [
    {
     "name": "stdout",
     "output_type": "stream",
     "text": [
      "Correlação entre Tempo de Resposta e Tamanho do Pedido: 1.0\n"
     ]
    }
   ],
   "source": [
    "correlacao_colunas = base_dados['Dias para Resposta'].corr(base_dados['Tamanho do Pedido'])\n",
    "\n",
    "# Se \"correlacao_colunas\" estiver próxima de 1 ou -1, há uma correlação forte.\n",
    "# Se estiver próxima de 0, não há uma correlação forte.\n",
    "\n",
    "print(f\"Correlação entre Tempo de Resposta e Tamanho do Pedido: {correlacao_colunas:.1f}\")"
   ]
  },
  {
   "cell_type": "markdown",
   "id": "2e34a7de",
   "metadata": {},
   "source": [
    "### 5.2 Caso exista, quais seriam as entradas para um modelo preditivo para o tempo de resposta?\n",
    "\n",
    "Seriam **\"Tamanho do Pedido\"** e **\"Dias para Resposta\"**."
   ]
  },
  {
   "cell_type": "code",
   "execution_count": 15,
   "id": "bc9e27ea",
   "metadata": {},
   "outputs": [
    {
     "name": "stdout",
     "output_type": "stream",
     "text": [
      "Tempo de resposta previsto para um pedido com tamanho de 1000 caracteres: 274.30 dias\n"
     ]
    }
   ],
   "source": [
    "# Modelo de regressão linear simples utilizando\n",
    "# \"Tamanho do Pedido\" e \"Dias para Resposta\" como entradas\n",
    "\n",
    "from sklearn.linear_model import LinearRegression\n",
    "import numpy as np\n",
    "\n",
    "# Extração dos dados\n",
    "X = base_dados[['Tamanho do Pedido']].values\n",
    "y = base_dados['Dias para Resposta'].values\n",
    "\n",
    "# Criação e treino do modelo de regessão linear\n",
    "modelo = LinearRegression()\n",
    "modelo.fit(X, y)\n",
    "\n",
    "# Exemplo: Previsão do tempo de resposta para um pedido com tamanho de 1000 caracteres:\n",
    "tamanho_pedido = np.array([[1000]])\n",
    "tempo_resposta_predito = modelo.predict(tamanho_pedido)\n",
    "\n",
    "print(f\"Tempo de resposta previsto para um pedido com tamanho de 1000 caracteres: {tempo_resposta_predito[0]:.2f} dias\")"
   ]
  },
  {
   "cell_type": "markdown",
   "id": "d41fa66e",
   "metadata": {},
   "source": [
    "## 6. Questão Extra (Desafio): Contar as palavras nos pedidos de acesso à informação\n",
    "\n",
    "Frase: _\"Esse é um pedido de acesso à informação. Esse tipo de pedido é uma ferramenta essencial para o exercício da democracia.\"_\n",
    "\n",
    "Obs.: A imagem do resultado esperado possui a palavra `essa`, porém a frase informada não a possui."
   ]
  },
  {
   "cell_type": "code",
   "execution_count": 16,
   "id": "bf28eae7",
   "metadata": {
    "scrolled": true
   },
   "outputs": [
    {
     "name": "stdout",
     "output_type": "stream",
     "text": [
      "Esse: 2\n",
      "é: 2\n",
      "um: 1\n",
      "pedido: 2\n",
      "de: 2\n",
      "acesso: 1\n",
      "à: 1\n",
      "informação: 1\n",
      "tipo: 1\n",
      "uma: 1\n",
      "ferramenta: 1\n",
      "essencial: 1\n",
      "para: 1\n",
      "o: 1\n",
      "exercício: 1\n",
      "da: 1\n",
      "democracia: 1\n"
     ]
    }
   ],
   "source": [
    "frase = \"Esse é um pedido de acesso à informação. Esse tipo de pedido é uma ferramenta essencial para o exercício da democracia.\"\n",
    "contagem_palavras = {}\n",
    "\n",
    "palavras = frase.split()\n",
    "    \n",
    "for palavra in palavras:\n",
    "    # Remove as pontuações simples\n",
    "    palavra = palavra.strip('.,!?\":;()[]{}')\n",
    "        \n",
    "    if isinstance(palavra, str):\n",
    "        contagem_palavras[palavra] = contagem_palavras.get(palavra, 0) + 1\n",
    "\n",
    "for palavra, contador in contagem_palavras.items():\n",
    "    print(f\"{palavra}: {contador}\")"
   ]
  }
 ],
 "metadata": {
  "kernelspec": {
   "display_name": "Python 3 (ipykernel)",
   "language": "python",
   "name": "python3"
  },
  "language_info": {
   "codemirror_mode": {
    "name": "ipython",
    "version": 3
   },
   "file_extension": ".py",
   "mimetype": "text/x-python",
   "name": "python",
   "nbconvert_exporter": "python",
   "pygments_lexer": "ipython3",
   "version": "3.11.4"
  }
 },
 "nbformat": 4,
 "nbformat_minor": 5
}
